{
 "cells": [
  {
   "cell_type": "code",
   "execution_count": 1,
   "id": "037bb1f7-d467-4474-8bbc-ed3245700682",
   "metadata": {},
   "outputs": [],
   "source": [
    "import numpy as np\n",
    "from sklearn.datasets import fetch_openml\n",
    "from sklearn.model_selection import train_test_split\n",
    "from collections import Counter\n",
    "from sklearn.metrics import accuracy_score\n",
    "import time\n",
    "from joblib import Parallel, delayed\n",
    "\n",
    "# Load MNIST dataset\n",
    "mnist = fetch_openml('mnist_784', version=1)\n",
    "X, y = mnist[\"data\"], mnist[\"target\"].astype(int)  # Convert labels to integers\n"
   ]
  },
  {
   "cell_type": "code",
   "execution_count": 2,
   "id": "58b1d2a9-e2bc-475e-b3b2-dd9133c9bfa9",
   "metadata": {},
   "outputs": [
    {
     "name": "stdout",
     "output_type": "stream",
     "text": [
      "X_train dtype: float64\n",
      "X_test dtype: float64\n",
      "y_train dtype: int32\n",
      "NaN values in X_train: False\n",
      "NaN values in X_test: False\n",
      "Infinite values in X_train: False\n",
      "Infinite values in X_test: False\n",
      "Parallel KNN Accuracy: 98.00%\n",
      "Time taken for prediction: 130.6184 seconds\n"
     ]
    }
   ],
   "source": [
    "# Split into train and test sets\n",
    "X_train, X_test, y_train, y_test = train_test_split(X, y, test_size=1000, random_state=42)\n",
    "\n",
    "# Normalize pixel values (ensure they are floats)\n",
    "X_train = X_train.astype(np.float64) / 255.0\n",
    "X_test = X_test.astype(np.float64) / 255.0\n",
    "\n",
    "# Convert DataFrames to NumPy arrays\n",
    "X_train = X_train.values\n",
    "X_test = X_test.values\n",
    "y_train = y_train.values  # Convert y_train to a NumPy array\n",
    "\n",
    "# Check data types\n",
    "print(f\"X_train dtype: {X_train.dtype}\")\n",
    "print(f\"X_test dtype: {X_test.dtype}\")\n",
    "print(f\"y_train dtype: {y_train.dtype}\")\n",
    "\n",
    "# Check for non-numeric values\n",
    "print(f\"NaN values in X_train: {np.any(np.isnan(X_train))}\")\n",
    "print(f\"NaN values in X_test: {np.any(np.isnan(X_test))}\")\n",
    "print(f\"Infinite values in X_train: {np.any(np.isinf(X_train))}\")\n",
    "print(f\"Infinite values in X_test: {np.any(np.isinf(X_test))}\")\n",
    "\n",
    "# Parallel KNN implementation\n",
    "def knn_predict_parallel(X_train, y_train, X_test, k=3, n_jobs=-1):\n",
    "    def predict_single(test_point):\n",
    "        distances = np.sqrt(np.sum((X_train - test_point) ** 2, axis=1))  # Euclidean distance\n",
    "        nearest_indices = np.argsort(distances)[:k]  # Find k nearest neighbors\n",
    "        nearest_labels = y_train[nearest_indices]  # Use positional indexing\n",
    "        majority_vote = Counter(nearest_labels).most_common(1)[0][0]  # Majority voting\n",
    "        return majority_vote\n",
    "\n",
    "    predictions = Parallel(n_jobs=n_jobs)(delayed(predict_single)(test_point) for test_point in X_test)\n",
    "    return np.array(predictions)\n",
    "\n",
    "# Start the timer\n",
    "start_time = time.time()\n",
    "\n",
    "# Predict and evaluate\n",
    "y_pred_parallel = knn_predict_parallel(X_train, y_train, X_test, k=3, n_jobs=-1)\n",
    "accuracy_parallel = accuracy_score(y_test, y_pred_parallel)\n",
    "\n",
    "# Stop the timer\n",
    "end_time = time.time()\n",
    "\n",
    "# Calculate and print the elapsed time\n",
    "elapsed_time_parallel = end_time - start_time\n",
    "print(f\"Parallel KNN Accuracy: {accuracy_parallel * 100:.2f}%\")\n",
    "print(f\"Time taken for prediction: {elapsed_time_parallel:.4f} seconds\")"
   ]
  }
 ],
 "metadata": {
  "kernelspec": {
   "display_name": "Python 3 (ipykernel)",
   "language": "python",
   "name": "python3"
  },
  "language_info": {
   "codemirror_mode": {
    "name": "ipython",
    "version": 3
   },
   "file_extension": ".py",
   "mimetype": "text/x-python",
   "name": "python",
   "nbconvert_exporter": "python",
   "pygments_lexer": "ipython3",
   "version": "3.9.13"
  }
 },
 "nbformat": 4,
 "nbformat_minor": 5
}
