{
 "cells": [
  {
   "cell_type": "markdown",
   "id": "e2c7503c-705e-4b28-bdf8-4bcf17116e3f",
   "metadata": {},
   "source": [
    "##Load and Prepare the Dataset"
   ]
  },
  {
   "cell_type": "code",
   "execution_count": 1,
   "id": "2d175b20-860b-4fdd-a0a6-26274e9f17d6",
   "metadata": {},
   "outputs": [],
   "source": [
    "import numpy as np\n",
    "from sklearn.datasets import fetch_openml\n",
    "from sklearn.model_selection import train_test_split\n",
    "\n",
    "# Load MNIST dataset\n",
    "mnist = fetch_openml('mnist_784', version=1)\n",
    "X, y = mnist[\"data\"], mnist[\"target\"].astype(int)  # Convert labels to integers\n",
    "\n"
   ]
  },
  {
   "cell_type": "code",
   "execution_count": 2,
   "id": "7f3a642b-b270-40d0-b076-5f54f2dd821b",
   "metadata": {},
   "outputs": [],
   "source": [
    "# Split into train and test sets\n",
    "X_train, X_test, y_train, y_test = train_test_split(X, y, test_size=1000, random_state=42)\n",
    "\n",
    "# Normalize pixel values (ensure they are floats)\n",
    "X_train = X_train.astype(np.float64) / 255.0\n",
    "X_test = X_test.astype(np.float64) / 255.0\n",
    "\n",
    "# Convert DataFrames to NumPy arrays\n",
    "X_train = X_train.values\n",
    "X_test = X_test.values\n",
    "y_train = y_train.values  # Convert y_train to a NumPy array"
   ]
  },
  {
   "cell_type": "markdown",
   "id": "d7ccafc8-5979-43db-9111-c89ecc496c4a",
   "metadata": {},
   "source": [
    "##Verify Data Types"
   ]
  },
  {
   "cell_type": "code",
   "execution_count": 3,
   "id": "567bda82-67c5-4741-980c-bd58025942dc",
   "metadata": {},
   "outputs": [
    {
     "name": "stdout",
     "output_type": "stream",
     "text": [
      "X_train dtype: float64\n",
      "X_test dtype: float64\n",
      "y_train dtype: int32\n",
      "NaN values in X_train: False\n",
      "NaN values in X_test: False\n",
      "Infinite values in X_train: False\n",
      "Infinite values in X_test: False\n"
     ]
    }
   ],
   "source": [
    "# Check data types\n",
    "print(f\"X_train dtype: {X_train.dtype}\")\n",
    "print(f\"X_test dtype: {X_test.dtype}\")\n",
    "print(f\"y_train dtype: {y_train.dtype}\")\n",
    "\n",
    "# Check for non-numeric values\n",
    "print(f\"NaN values in X_train: {np.any(np.isnan(X_train))}\")\n",
    "print(f\"NaN values in X_test: {np.any(np.isnan(X_test))}\")\n",
    "print(f\"Infinite values in X_train: {np.any(np.isinf(X_train))}\")\n",
    "print(f\"Infinite values in X_test: {np.any(np.isinf(X_test))}\")"
   ]
  },
  {
   "cell_type": "markdown",
   "id": "2cd7d60e-a078-4280-9677-48a61748651d",
   "metadata": {},
   "source": [
    "##Implement KNN Algorithm"
   ]
  },
  {
   "cell_type": "code",
   "execution_count": 4,
   "id": "1865b1a3-bfce-4281-af0e-36ae0af2cc54",
   "metadata": {},
   "outputs": [],
   "source": [
    "from collections import Counter\n",
    "\n",
    "# KNN implementation\n",
    "def knn_predict(X_train, y_train, X_test, k=3):\n",
    "    predictions = []\n",
    "    for test_point in X_test:\n",
    "        distances = np.sqrt(np.sum((X_train - test_point) ** 2, axis=1))  # Euclidean distance\n",
    "        nearest_indices = np.argsort(distances)[:k]  # Find k nearest neighbors\n",
    "        nearest_labels = y_train[nearest_indices]  # Use positional indexing\n",
    "        majority_vote = Counter(nearest_labels).most_common(1)[0][0]  # Majority voting\n",
    "        predictions.append(majority_vote)\n",
    "    return np.array(predictions)"
   ]
  },
  {
   "cell_type": "markdown",
   "id": "f85c4b1e-a1e3-4420-bf92-5c98cfbe3c11",
   "metadata": {},
   "source": [
    "##Make Predictions and Evaluate Accuracy"
   ]
  },
  {
   "cell_type": "code",
   "execution_count": 5,
   "id": "c369ded1-61c7-4dc4-894b-8626081ded83",
   "metadata": {},
   "outputs": [
    {
     "name": "stdout",
     "output_type": "stream",
     "text": [
      "Non-Parallel KNN Accuracy: 98.00%\n",
      "Time taken for prediction: 302.4300 seconds\n"
     ]
    }
   ],
   "source": [
    "from sklearn.metrics import accuracy_score\n",
    "import time\n",
    "\n",
    "# Start the timer\n",
    "start_time = time.time()\n",
    "\n",
    "# Predict and evaluate\n",
    "y_pred = knn_predict(X_train, y_train, X_test, k=3)\n",
    "accuracy = accuracy_score(y_test, y_pred)\n",
    "\n",
    "# Stop the timer\n",
    "end_time = time.time()\n",
    "\n",
    "# Calculate and print the elapsed time\n",
    "elapsed_time = end_time - start_time\n",
    "print(f\"Non-Parallel KNN Accuracy: {accuracy * 100:.2f}%\")\n",
    "print(f\"Time taken for prediction: {elapsed_time:.4f} seconds\")"
   ]
  },
  {
   "cell_type": "code",
   "execution_count": null,
   "id": "54be8995-e69c-49ca-a2b6-892a31191e31",
   "metadata": {},
   "outputs": [],
   "source": []
  }
 ],
 "metadata": {
  "kernelspec": {
   "display_name": "Python 3 (ipykernel)",
   "language": "python",
   "name": "python3"
  },
  "language_info": {
   "codemirror_mode": {
    "name": "ipython",
    "version": 3
   },
   "file_extension": ".py",
   "mimetype": "text/x-python",
   "name": "python",
   "nbconvert_exporter": "python",
   "pygments_lexer": "ipython3",
   "version": "3.9.13"
  }
 },
 "nbformat": 4,
 "nbformat_minor": 5
}
